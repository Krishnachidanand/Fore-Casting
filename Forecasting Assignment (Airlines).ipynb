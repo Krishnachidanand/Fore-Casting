{
 "cells": [
  {
   "cell_type": "code",
   "execution_count": 1,
   "id": "07540c1e",
   "metadata": {
    "ExecuteTime": {
     "end_time": "2022-10-14T11:53:42.698722Z",
     "start_time": "2022-10-14T11:53:42.683095Z"
    }
   },
   "outputs": [],
   "source": [
    "import warnings\n",
    "warnings.filterwarnings('ignore')"
   ]
  },
  {
   "cell_type": "code",
   "execution_count": 2,
   "id": "723fa49b",
   "metadata": {
    "ExecuteTime": {
     "end_time": "2022-10-14T11:54:44.769240Z",
     "start_time": "2022-10-14T11:53:42.729969Z"
    }
   },
   "outputs": [],
   "source": [
    "import pandas as pd\n",
    "import numpy as np\n",
    "import matplotlib.pyplot as plt\n",
    "%matplotlib inline\n",
    "\n",
    "\n",
    "from pandas.plotting import lag_plot\n",
    "\n",
    "from sklearn.model_selection import train_test_split\n",
    "\n",
    "\n",
    "from statsmodels.tsa.arima_model import ARIMA\n",
    "from statsmodels.tsa.seasonal import seasonal_decompose\n",
    "from statsmodels.tsa.holtwinters import SimpleExpSmoothing, Holt, ExponentialSmoothing\n",
    "import itertools\n",
    "\n",
    "\n"
   ]
  },
  {
   "cell_type": "code",
   "execution_count": 3,
   "id": "8c7b0737",
   "metadata": {
    "ExecuteTime": {
     "end_time": "2022-10-14T11:54:58.055456Z",
     "start_time": "2022-10-14T11:54:44.786635Z"
    }
   },
   "outputs": [
    {
     "data": {
      "text/html": [
       "<div>\n",
       "<style scoped>\n",
       "    .dataframe tbody tr th:only-of-type {\n",
       "        vertical-align: middle;\n",
       "    }\n",
       "\n",
       "    .dataframe tbody tr th {\n",
       "        vertical-align: top;\n",
       "    }\n",
       "\n",
       "    .dataframe thead th {\n",
       "        text-align: right;\n",
       "    }\n",
       "</style>\n",
       "<table border=\"1\" class=\"dataframe\">\n",
       "  <thead>\n",
       "    <tr style=\"text-align: right;\">\n",
       "      <th></th>\n",
       "      <th>Month</th>\n",
       "      <th>Passengers</th>\n",
       "    </tr>\n",
       "  </thead>\n",
       "  <tbody>\n",
       "    <tr>\n",
       "      <th>0</th>\n",
       "      <td>1995-01-01</td>\n",
       "      <td>112</td>\n",
       "    </tr>\n",
       "    <tr>\n",
       "      <th>1</th>\n",
       "      <td>1995-02-01</td>\n",
       "      <td>118</td>\n",
       "    </tr>\n",
       "    <tr>\n",
       "      <th>2</th>\n",
       "      <td>1995-03-01</td>\n",
       "      <td>132</td>\n",
       "    </tr>\n",
       "    <tr>\n",
       "      <th>3</th>\n",
       "      <td>1995-04-01</td>\n",
       "      <td>129</td>\n",
       "    </tr>\n",
       "    <tr>\n",
       "      <th>4</th>\n",
       "      <td>1995-05-01</td>\n",
       "      <td>121</td>\n",
       "    </tr>\n",
       "    <tr>\n",
       "      <th>...</th>\n",
       "      <td>...</td>\n",
       "      <td>...</td>\n",
       "    </tr>\n",
       "    <tr>\n",
       "      <th>91</th>\n",
       "      <td>2002-08-01</td>\n",
       "      <td>405</td>\n",
       "    </tr>\n",
       "    <tr>\n",
       "      <th>92</th>\n",
       "      <td>2002-09-01</td>\n",
       "      <td>355</td>\n",
       "    </tr>\n",
       "    <tr>\n",
       "      <th>93</th>\n",
       "      <td>2002-10-01</td>\n",
       "      <td>306</td>\n",
       "    </tr>\n",
       "    <tr>\n",
       "      <th>94</th>\n",
       "      <td>2002-11-01</td>\n",
       "      <td>271</td>\n",
       "    </tr>\n",
       "    <tr>\n",
       "      <th>95</th>\n",
       "      <td>2002-12-01</td>\n",
       "      <td>306</td>\n",
       "    </tr>\n",
       "  </tbody>\n",
       "</table>\n",
       "<p>96 rows × 2 columns</p>\n",
       "</div>"
      ],
      "text/plain": [
       "        Month  Passengers\n",
       "0  1995-01-01         112\n",
       "1  1995-02-01         118\n",
       "2  1995-03-01         132\n",
       "3  1995-04-01         129\n",
       "4  1995-05-01         121\n",
       "..        ...         ...\n",
       "91 2002-08-01         405\n",
       "92 2002-09-01         355\n",
       "93 2002-10-01         306\n",
       "94 2002-11-01         271\n",
       "95 2002-12-01         306\n",
       "\n",
       "[96 rows x 2 columns]"
      ]
     },
     "execution_count": 3,
     "metadata": {},
     "output_type": "execute_result"
    }
   ],
   "source": [
    "air_df= pd.read_excel('Airlines+Data.xlsx')\n",
    "air_df"
   ]
  },
  {
   "cell_type": "code",
   "execution_count": 4,
   "id": "47e43c86",
   "metadata": {
    "ExecuteTime": {
     "end_time": "2022-10-14T11:54:58.618802Z",
     "start_time": "2022-10-14T11:54:58.071084Z"
    }
   },
   "outputs": [
    {
     "data": {
      "text/html": [
       "<div>\n",
       "<style scoped>\n",
       "    .dataframe tbody tr th:only-of-type {\n",
       "        vertical-align: middle;\n",
       "    }\n",
       "\n",
       "    .dataframe tbody tr th {\n",
       "        vertical-align: top;\n",
       "    }\n",
       "\n",
       "    .dataframe thead th {\n",
       "        text-align: right;\n",
       "    }\n",
       "</style>\n",
       "<table border=\"1\" class=\"dataframe\">\n",
       "  <thead>\n",
       "    <tr style=\"text-align: right;\">\n",
       "      <th></th>\n",
       "      <th>Passengers</th>\n",
       "    </tr>\n",
       "  </thead>\n",
       "  <tbody>\n",
       "    <tr>\n",
       "      <th>count</th>\n",
       "      <td>96.000000</td>\n",
       "    </tr>\n",
       "    <tr>\n",
       "      <th>mean</th>\n",
       "      <td>213.708333</td>\n",
       "    </tr>\n",
       "    <tr>\n",
       "      <th>std</th>\n",
       "      <td>71.918216</td>\n",
       "    </tr>\n",
       "    <tr>\n",
       "      <th>min</th>\n",
       "      <td>104.000000</td>\n",
       "    </tr>\n",
       "    <tr>\n",
       "      <th>25%</th>\n",
       "      <td>156.000000</td>\n",
       "    </tr>\n",
       "    <tr>\n",
       "      <th>50%</th>\n",
       "      <td>200.000000</td>\n",
       "    </tr>\n",
       "    <tr>\n",
       "      <th>75%</th>\n",
       "      <td>264.750000</td>\n",
       "    </tr>\n",
       "    <tr>\n",
       "      <th>max</th>\n",
       "      <td>413.000000</td>\n",
       "    </tr>\n",
       "  </tbody>\n",
       "</table>\n",
       "</div>"
      ],
      "text/plain": [
       "       Passengers\n",
       "count   96.000000\n",
       "mean   213.708333\n",
       "std     71.918216\n",
       "min    104.000000\n",
       "25%    156.000000\n",
       "50%    200.000000\n",
       "75%    264.750000\n",
       "max    413.000000"
      ]
     },
     "execution_count": 4,
     "metadata": {},
     "output_type": "execute_result"
    }
   ],
   "source": [
    "air_df.describe()"
   ]
  },
  {
   "cell_type": "markdown",
   "id": "177147d8",
   "metadata": {},
   "source": [
    "# Visualization of data for forecasting "
   ]
  },
  {
   "cell_type": "code",
   "execution_count": 5,
   "id": "b7ddec79",
   "metadata": {
    "ExecuteTime": {
     "end_time": "2022-10-14T11:55:03.972236Z",
     "start_time": "2022-10-14T11:54:58.661803Z"
    }
   },
   "outputs": [
    {
     "data": {
      "text/plain": [
       "Month\n",
       "1995-01-01    112\n",
       "1995-02-01    118\n",
       "1995-03-01    132\n",
       "1995-04-01    129\n",
       "1995-05-01    121\n",
       "             ... \n",
       "2002-08-01    405\n",
       "2002-09-01    355\n",
       "2002-10-01    306\n",
       "2002-11-01    271\n",
       "2002-12-01    306\n",
       "Name: Passengers, Length: 96, dtype: int64"
      ]
     },
     "execution_count": 5,
     "metadata": {},
     "output_type": "execute_result"
    }
   ],
   "source": [
    "df_vis= pd.read_excel('Airlines+Data.xlsx', header=0, index_col=0, parse_dates=True, squeeze=True)\n",
    "df_vis"
   ]
  },
  {
   "cell_type": "code",
   "execution_count": 6,
   "id": "6e234bac",
   "metadata": {
    "ExecuteTime": {
     "end_time": "2022-10-14T11:55:09.170150Z",
     "start_time": "2022-10-14T11:55:03.972236Z"
    }
   },
   "outputs": [
    {
     "data": {
      "text/plain": [
       "<AxesSubplot:xlabel='Month'>"
      ]
     },
     "execution_count": 6,
     "metadata": {},
     "output_type": "execute_result"
    },
    {
     "data": {
      "image/png": "[encoded data removed]",
      "text/plain": [
       "<Figure size 432x288 with 1 Axes>"
      ]
     },
     "metadata": {
      "needs_background": "light"
     },
     "output_type": "display_data"
    }
   ],
   "source": [
    "df_vis.plot()"
   ]
  },
  {
   "cell_type": "code",
   "execution_count": 7,
   "id": "0272c752",
   "metadata": {
    "ExecuteTime": {
     "end_time": "2022-10-14T11:55:10.838820Z",
     "start_time": "2022-10-14T11:55:09.201154Z"
    }
   },
   "outputs": [
    {
     "data": {
      "text/plain": [
       "<AxesSubplot:ylabel='Frequency'>"
      ]
     },
     "execution_count": 7,
     "metadata": {},
     "output_type": "execute_result"
    },
    {
     "data": {
      "image/png": "[encoded data removed]",
      "text/plain": [
       "<Figure size 432x288 with 1 Axes>"
      ]
     },
     "metadata": {
      "needs_background": "light"
     },
     "output_type": "display_data"
    }
   ],
   "source": [
    "df_vis.plot(kind='hist')"
   ]
  },
  {
   "cell_type": "code",
   "execution_count": 8,
   "id": "e6d42b45",
   "metadata": {
    "ExecuteTime": {
     "end_time": "2022-10-14T11:55:12.748621Z",
     "start_time": "2022-10-14T11:55:10.838820Z"
    }
   },
   "outputs": [
    {
     "data": {
      "text/plain": [
       "<AxesSubplot:>"
      ]
     },
     "execution_count": 8,
     "metadata": {},
     "output_type": "execute_result"
    },
    {
     "data": {
      "image/png": "[encoded data removed]",
      "text/plain": [
       "<Figure size 432x288 with 1 Axes>"
      ]
     },
     "metadata": {
      "needs_background": "light"
     },
     "output_type": "display_data"
    }
   ],
   "source": [
    "group= df_vis.groupby(pd.Grouper(freq='A'))\n",
    "years= pd.DataFrame()\n",
    "\n",
    "for i, j in group:\n",
    "    years[i.year]=j.values\n",
    "    \n",
    "years.boxplot()"
   ]
  },
  {
   "cell_type": "code",
   "execution_count": 9,
   "id": "64ebf3bb",
   "metadata": {
    "ExecuteTime": {
     "end_time": "2022-10-14T11:55:14.097073Z",
     "start_time": "2022-10-14T11:55:12.748621Z"
    }
   },
   "outputs": [
    {
     "data": {
      "text/plain": [
       "<AxesSubplot:xlabel='y(t)', ylabel='y(t + 1)'>"
      ]
     },
     "execution_count": 9,
     "metadata": {},
     "output_type": "execute_result"
    },
    {
     "data": {
      "image/png": "[encoded data removed]",
      "text/plain": [
       "<Figure size 432x288 with 1 Axes>"
      ]
     },
     "metadata": {
      "needs_background": "light"
     },
     "output_type": "display_data"
    }
   ],
   "source": [
    "lag_plot(df_vis)"
   ]
  },
  {
   "cell_type": "markdown",
   "id": "0c8d40e3",
   "metadata": {
    "ExecuteTime": {
     "end_time": "2022-09-24T13:36:24.915253Z",
     "start_time": "2022-09-24T13:36:24.895255Z"
    }
   },
   "source": [
    "# Model building"
   ]
  },
  {
   "cell_type": "code",
   "execution_count": 10,
   "id": "8756aa0c",
   "metadata": {
    "ExecuteTime": {
     "end_time": "2022-10-14T11:55:14.203079Z",
     "start_time": "2022-10-14T11:55:14.124082Z"
    }
   },
   "outputs": [],
   "source": [
    "train= air_df.head(75)\n",
    "test= air_df.tail(21)"
   ]
  },
  {
   "cell_type": "code",
   "execution_count": 11,
   "id": "7d19a765",
   "metadata": {
    "ExecuteTime": {
     "end_time": "2022-10-14T11:55:15.894219Z",
     "start_time": "2022-10-14T11:55:14.230074Z"
    }
   },
   "outputs": [
    {
     "data": {
      "text/plain": [
       "<matplotlib.legend.Legend at 0x15557ff7a30>"
      ]
     },
     "execution_count": 11,
     "metadata": {},
     "output_type": "execute_result"
    },
    {
     "data": {
      "image/png": "[encoded data removed]",
      "text/plain": [
       "<Figure size 1080x288 with 1 Axes>"
      ]
     },
     "metadata": {
      "needs_background": "light"
     },
     "output_type": "display_data"
    }
   ],
   "source": [
    "plt.figure(figsize=(15,4))\n",
    "air_df.Passengers.plot(label='org')\n",
    "\n",
    "for i in range(2,18,4):\n",
    "    air_df.Passengers.rolling(i).mean().plot(label=str(i))\n",
    "plt.legend()"
   ]
  },
  {
   "cell_type": "markdown",
   "id": "76f25cdf",
   "metadata": {},
   "source": [
    "# Evaluation metric MAPE"
   ]
  },
  {
   "cell_type": "code",
   "execution_count": 12,
   "id": "bd7faf0a",
   "metadata": {
    "ExecuteTime": {
     "end_time": "2022-10-14T11:55:16.077993Z",
     "start_time": "2022-10-14T11:55:15.917998Z"
    }
   },
   "outputs": [],
   "source": [
    "def Mape(pred, org):\n",
    "    temp=np.abs((pred-org)/org)*100\n",
    "    return np.mean(temp)"
   ]
  },
  {
   "cell_type": "markdown",
   "id": "2e2180a6",
   "metadata": {},
   "source": [
    "# Simple exponantial model "
   ]
  },
  {
   "cell_type": "code",
   "execution_count": 13,
   "id": "0a05194a",
   "metadata": {
    "ExecuteTime": {
     "end_time": "2022-10-14T11:55:18.135589Z",
     "start_time": "2022-10-14T11:55:16.093996Z"
    }
   },
   "outputs": [],
   "source": [
    "train.Passengers= train.Passengers.astype('double')\n",
    "sim_model= SimpleExpSmoothing(train['Passengers']).fit(smoothing_level=0.2)"
   ]
  },
  {
   "cell_type": "code",
   "execution_count": 14,
   "id": "73961b65",
   "metadata": {
    "ExecuteTime": {
     "end_time": "2022-10-14T11:55:18.277108Z",
     "start_time": "2022-10-14T11:55:18.151215Z"
    }
   },
   "outputs": [
    {
     "data": {
      "text/plain": [
       "75    243.498826\n",
       "76    243.498826\n",
       "77    243.498826\n",
       "78    243.498826\n",
       "79    243.498826\n",
       "80    243.498826\n",
       "81    243.498826\n",
       "82    243.498826\n",
       "83    243.498826\n",
       "84    243.498826\n",
       "85    243.498826\n",
       "86    243.498826\n",
       "87    243.498826\n",
       "88    243.498826\n",
       "89    243.498826\n",
       "90    243.498826\n",
       "91    243.498826\n",
       "92    243.498826\n",
       "93    243.498826\n",
       "94    243.498826\n",
       "95    243.498826\n",
       "dtype: float64"
      ]
     },
     "execution_count": 14,
     "metadata": {},
     "output_type": "execute_result"
    }
   ],
   "source": [
    "sim_pred= sim_model.predict(start= test.index[0], end=test.index[-1])\n",
    "sim_pred"
   ]
  },
  {
   "cell_type": "code",
   "execution_count": 15,
   "id": "6016b5c1",
   "metadata": {
    "ExecuteTime": {
     "end_time": "2022-10-14T11:55:18.750791Z",
     "start_time": "2022-10-14T11:55:18.289114Z"
    }
   },
   "outputs": [
    {
     "data": {
      "text/plain": [
       "21.264745162517233"
      ]
     },
     "execution_count": 15,
     "metadata": {},
     "output_type": "execute_result"
    }
   ],
   "source": [
    "sim_mape=Mape(sim_pred, test.Passengers)\n",
    "sim_mape"
   ]
  },
  {
   "cell_type": "markdown",
   "id": "58805d8b",
   "metadata": {},
   "source": [
    "# Holt model"
   ]
  },
  {
   "cell_type": "code",
   "execution_count": 16,
   "id": "4f8d835d",
   "metadata": {
    "ExecuteTime": {
     "end_time": "2022-10-14T11:55:19.120016Z",
     "start_time": "2022-10-14T11:55:18.766417Z"
    }
   },
   "outputs": [],
   "source": [
    "holt_model= Holt(train.Passengers).fit(smoothing_level=0.8, smoothing_trend=0.2)"
   ]
  },
  {
   "cell_type": "code",
   "execution_count": 17,
   "id": "ff7bfe0c",
   "metadata": {
    "ExecuteTime": {
     "end_time": "2022-10-14T11:55:19.388014Z",
     "start_time": "2022-10-14T11:55:19.167017Z"
    }
   },
   "outputs": [
    {
     "data": {
      "text/plain": [
       "75    264.622591\n",
       "76    269.082197\n",
       "77    273.541803\n",
       "78    278.001409\n",
       "79    282.461015\n",
       "80    286.920621\n",
       "81    291.380227\n",
       "82    295.839833\n",
       "83    300.299439\n",
       "84    304.759045\n",
       "85    309.218651\n",
       "86    313.678257\n",
       "87    318.137864\n",
       "88    322.597470\n",
       "89    327.057076\n",
       "90    331.516682\n",
       "91    335.976288\n",
       "92    340.435894\n",
       "93    344.895500\n",
       "94    349.355106\n",
       "95    353.814712\n",
       "dtype: float64"
      ]
     },
     "execution_count": 17,
     "metadata": {},
     "output_type": "execute_result"
    }
   ],
   "source": [
    "holt_pred=holt_model.predict(start=test.index[0], end= test.index[-1])\n",
    "holt_pred"
   ]
  },
  {
   "cell_type": "code",
   "execution_count": 18,
   "id": "8bb42e37",
   "metadata": {
    "ExecuteTime": {
     "end_time": "2022-10-14T11:55:19.849016Z",
     "start_time": "2022-10-14T11:55:19.406020Z"
    }
   },
   "outputs": [
    {
     "data": {
      "text/plain": [
       "11.349331111998238"
      ]
     },
     "execution_count": 18,
     "metadata": {},
     "output_type": "execute_result"
    }
   ],
   "source": [
    "holt_mape=Mape(holt_pred, test.Passengers)\n",
    "holt_mape"
   ]
  },
  {
   "cell_type": "markdown",
   "id": "69445c7d",
   "metadata": {},
   "source": [
    "# Holt winter exponantial smoothing with additive seasonality  and additive trend"
   ]
  },
  {
   "cell_type": "code",
   "execution_count": 19,
   "id": "5c5e43db",
   "metadata": {
    "ExecuteTime": {
     "end_time": "2022-10-14T11:55:22.527925Z",
     "start_time": "2022-10-14T11:55:19.860016Z"
    }
   },
   "outputs": [],
   "source": [
    "holtwin_model=ExponentialSmoothing(train.Passengers, seasonal='add', trend='add', seasonal_periods= 12).fit()"
   ]
  },
  {
   "cell_type": "code",
   "execution_count": 20,
   "id": "95c78bc8",
   "metadata": {
    "ExecuteTime": {
     "end_time": "2022-10-14T11:55:22.651994Z",
     "start_time": "2022-10-14T11:55:22.527925Z"
    }
   },
   "outputs": [
    {
     "data": {
      "text/plain": [
       "75    258.326870\n",
       "76    257.327401\n",
       "77    277.826911\n",
       "78    298.826230\n",
       "79    300.659332\n",
       "80    277.158654\n",
       "81    254.157802\n",
       "82    233.157886\n",
       "83    254.658227\n",
       "84    258.738123\n",
       "85    259.596017\n",
       "86    286.881638\n",
       "87    279.214409\n",
       "88    278.214939\n",
       "89    298.714450\n",
       "90    319.713768\n",
       "91    321.546870\n",
       "92    298.046192\n",
       "93    275.045340\n",
       "94    254.045424\n",
       "95    275.545765\n",
       "dtype: float64"
      ]
     },
     "execution_count": 20,
     "metadata": {},
     "output_type": "execute_result"
    }
   ],
   "source": [
    "holtwin_pred= holtwin_model.predict(start=test.index[0], end= test.index[-1])\n",
    "holtwin_pred"
   ]
  },
  {
   "cell_type": "code",
   "execution_count": 21,
   "id": "21c6e56e",
   "metadata": {
    "ExecuteTime": {
     "end_time": "2022-10-14T11:55:22.986800Z",
     "start_time": "2022-10-14T11:55:22.661997Z"
    }
   },
   "outputs": [
    {
     "data": {
      "text/plain": [
       "11.134437160138903"
      ]
     },
     "execution_count": 21,
     "metadata": {},
     "output_type": "execute_result"
    }
   ],
   "source": [
    "holtwin_model2_mape= Mape(holtwin_pred, test.Passengers)\n",
    "holtwin_model2_mape"
   ]
  },
  {
   "cell_type": "code",
   "execution_count": 22,
   "id": "7bed81a3",
   "metadata": {
    "ExecuteTime": {
     "end_time": "2022-10-14T11:55:23.319219Z",
     "start_time": "2022-10-14T11:55:23.002426Z"
    }
   },
   "outputs": [
    {
     "data": {
      "text/html": [
       "<div>\n",
       "<style scoped>\n",
       "    .dataframe tbody tr th:only-of-type {\n",
       "        vertical-align: middle;\n",
       "    }\n",
       "\n",
       "    .dataframe tbody tr th {\n",
       "        vertical-align: top;\n",
       "    }\n",
       "\n",
       "    .dataframe thead th {\n",
       "        text-align: right;\n",
       "    }\n",
       "</style>\n",
       "<table border=\"1\" class=\"dataframe\">\n",
       "  <thead>\n",
       "    <tr style=\"text-align: right;\">\n",
       "      <th></th>\n",
       "      <th>Month</th>\n",
       "      <th>Passengers</th>\n",
       "    </tr>\n",
       "  </thead>\n",
       "  <tbody>\n",
       "    <tr>\n",
       "      <th>0</th>\n",
       "      <td>1995-01-01</td>\n",
       "      <td>112.0</td>\n",
       "    </tr>\n",
       "    <tr>\n",
       "      <th>1</th>\n",
       "      <td>1995-02-01</td>\n",
       "      <td>118.0</td>\n",
       "    </tr>\n",
       "    <tr>\n",
       "      <th>2</th>\n",
       "      <td>1995-03-01</td>\n",
       "      <td>132.0</td>\n",
       "    </tr>\n",
       "    <tr>\n",
       "      <th>3</th>\n",
       "      <td>1995-04-01</td>\n",
       "      <td>129.0</td>\n",
       "    </tr>\n",
       "    <tr>\n",
       "      <th>4</th>\n",
       "      <td>1995-05-01</td>\n",
       "      <td>121.0</td>\n",
       "    </tr>\n",
       "    <tr>\n",
       "      <th>...</th>\n",
       "      <td>...</td>\n",
       "      <td>...</td>\n",
       "    </tr>\n",
       "    <tr>\n",
       "      <th>91</th>\n",
       "      <td>2002-08-01</td>\n",
       "      <td>405.0</td>\n",
       "    </tr>\n",
       "    <tr>\n",
       "      <th>92</th>\n",
       "      <td>2002-09-01</td>\n",
       "      <td>355.0</td>\n",
       "    </tr>\n",
       "    <tr>\n",
       "      <th>93</th>\n",
       "      <td>2002-10-01</td>\n",
       "      <td>306.0</td>\n",
       "    </tr>\n",
       "    <tr>\n",
       "      <th>94</th>\n",
       "      <td>2002-11-01</td>\n",
       "      <td>271.0</td>\n",
       "    </tr>\n",
       "    <tr>\n",
       "      <th>95</th>\n",
       "      <td>2002-12-01</td>\n",
       "      <td>306.0</td>\n",
       "    </tr>\n",
       "  </tbody>\n",
       "</table>\n",
       "<p>96 rows × 2 columns</p>\n",
       "</div>"
      ],
      "text/plain": [
       "        Month  Passengers\n",
       "0  1995-01-01       112.0\n",
       "1  1995-02-01       118.0\n",
       "2  1995-03-01       132.0\n",
       "3  1995-04-01       129.0\n",
       "4  1995-05-01       121.0\n",
       "..        ...         ...\n",
       "91 2002-08-01       405.0\n",
       "92 2002-09-01       355.0\n",
       "93 2002-10-01       306.0\n",
       "94 2002-11-01       271.0\n",
       "95 2002-12-01       306.0\n",
       "\n",
       "[96 rows x 2 columns]"
      ]
     },
     "execution_count": 22,
     "metadata": {},
     "output_type": "execute_result"
    }
   ],
   "source": [
    "air_df['Passengers']=air_df['Passengers'].astype('double')\n",
    "air_df"
   ]
  },
  {
   "cell_type": "code",
   "execution_count": 23,
   "id": "d0856e58",
   "metadata": {
    "ExecuteTime": {
     "end_time": "2022-10-14T11:55:25.258995Z",
     "start_time": "2022-10-14T11:55:23.329219Z"
    }
   },
   "outputs": [],
   "source": [
    "model= ExponentialSmoothing(air_df['Passengers'], seasonal= 'mul', trend='add', seasonal_periods=12).fit()"
   ]
  },
  {
   "cell_type": "code",
   "execution_count": 24,
   "id": "2dc8934d",
   "metadata": {
    "ExecuteTime": {
     "end_time": "2022-10-14T11:55:25.419163Z",
     "start_time": "2022-10-14T11:55:25.274620Z"
    }
   },
   "outputs": [
    {
     "data": {
      "text/plain": [
       "96     312.899560\n",
       "97     308.171547\n",
       "98     355.533060\n",
       "99     345.770145\n",
       "100    345.696478\n",
       "101    392.471215\n",
       "102    436.501917\n",
       "103    429.859801\n",
       "104    380.173448\n",
       "105    332.317859\n",
       "dtype: float64"
      ]
     },
     "execution_count": 24,
     "metadata": {},
     "output_type": "execute_result"
    }
   ],
   "source": [
    "model.forecast(10)"
   ]
  },
  {
   "cell_type": "code",
   "execution_count": null,
   "id": "b2fcf249",
   "metadata": {},
   "outputs": [],
   "source": []
  }
 ],
 "metadata": {
  "kernelspec": {
   "display_name": "Python 3 (ipykernel)",
   "language": "python",
   "name": "python3"
  },
  "language_info": {
   "codemirror_mode": {
    "name": "ipython",
    "version": 3
   },
   "file_extension": ".py",
   "mimetype": "text/x-python",
   "name": "python",
   "nbconvert_exporter": "python",
   "pygments_lexer": "ipython3",
   "version": "3.9.12"
  },
  "latex_envs": {
   "LaTeX_envs_menu_present": true,
   "autoclose": false,
   "autocomplete": true,
   "bibliofile": "biblio.bib",
   "cite_by": "apalike",
   "current_citInitial": 1,
   "eqLabelWithNumbers": true,
   "eqNumInitial": 1,
   "hotkeys": {
    "equation": "Ctrl-E",
    "itemize": "Ctrl-I"
   },
   "labels_anchors": false,
   "latex_user_defs": false,
   "report_style_numbering": false,
   "user_envs_cfg": false
  }
 },
 "nbformat": 4,
 "nbformat_minor": 5
}
